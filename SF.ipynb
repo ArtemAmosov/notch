{
 "cells": [
  {
   "cell_type": "markdown",
   "id": "5ff663e8",
   "metadata": {},
   "source": [
    "# Straightforward algorithm for the prediction of Clinvar mutations"
   ]
  },
  {
   "cell_type": "code",
   "execution_count": 8,
   "id": "ecadd53e",
   "metadata": {},
   "outputs": [],
   "source": [
    "# Import necessary modules\n",
    "import Bio\n",
    "from Bio import SeqIO\n",
    "import csv\n",
    "#trees_ML/algn/realgn/re_new/no_gaps_copy1.fa\n",
    "#variants/notch3_table"
   ]
  },
  {
   "cell_type": "code",
   "execution_count": 9,
   "id": "3efd737d",
   "metadata": {},
   "outputs": [
    {
     "name": "stdout",
     "output_type": "stream",
     "text": [
      "Path to fasta file\n",
      "Path to file with variants in format - NP_006209.2 1 M V\n"
     ]
    }
   ],
   "source": [
    "# Upload fasta file with alligned sequences as fasta_file; and clinvar mutations as variants\n",
    "print(\"Path to fasta file\")\n",
    "fasta_file=str(input()) # Multiple_alignment.fa, first sequence should be Homo sapiens\n",
    "print(\"Path to file with variants in format - NP_006209.2 1 M V\")\n",
    "variants=str(input()) # PIK3CA_ClinVar.txt - txt-file with mutations in special format (e.g. NP_006209.2 1 M V)"
   ]
  },
  {
   "cell_type": "code",
   "execution_count": 10,
   "id": "efecc106",
   "metadata": {},
   "outputs": [],
   "source": [
    "# Create list of all sequences as seqen\n",
    "seqen=[]\n",
    "for seq_record in SeqIO.parse(fasta_file,\"fasta\"):\n",
    "    seqen.append(str(seq_record.seq))\n"
   ]
  },
  {
   "cell_type": "code",
   "execution_count": 11,
   "id": "4107ca9c",
   "metadata": {},
   "outputs": [],
   "source": [
    "# Create list of all variants as clean_clinvar\n",
    "clinvar=[]\n",
    "with open(variants) as f:\n",
    "    for line in f:\n",
    "        clinvar.append(str(line))       \n",
    "clean_clinvar=[]\n",
    "for i in clinvar:\n",
    "    new=i.strip(\"\\n\")\n",
    "    clean_clinvar.append(new.split(\" \"))\n"
   ]
  },
  {
   "cell_type": "code",
   "execution_count": 12,
   "id": "9157a3bc",
   "metadata": {},
   "outputs": [],
   "source": [
    "# Output is writing in the csv file \"clinvar_predictions.csv\" with header \n",
    "\n",
    "header=['Input', 'Prediction', 'Conservative', 'Substitutions', 'Uncertain_substitutions']\n",
    "\n",
    "with open('clinvar_predictions.csv', 'w', encoding='UTF8') as f:\n",
    "    writer = csv.writer(f)\n",
    "    # write the header\n",
    "    writer.writerow(header)\n",
    "\n",
    "    for x in clean_clinvar: \n",
    "        # Positions\n",
    "        pos=int(x[1])-1 # position of interest in alligned sequences\n",
    "        pos_bfr=pos-1 \n",
    "        pos_aft=pos+1\n",
    "        \n",
    "        # Human positions\n",
    "        human=seqen[0] # human sequence\n",
    "        human_pos=seqen[0][pos]\n",
    "        lenght=len(human)-1 ####################################################\n",
    "        if pos==0:\n",
    "            hpos_bfr=0 # special case for the fist amino acid\n",
    "            hpos_aft=seqen[0][pos+1]\n",
    "        elif pos==lenght:\n",
    "            hpos_bfr=seqen[0][pos-1]# special case for the last amino acid\n",
    "            hpos_aft=0\n",
    "        else:\n",
    "            hpos_bfr=seqen[0][pos-1]\n",
    "            hpos_aft=seqen[0][pos+1]\n",
    "        \n",
    "        # Gaps and X-amino acids\n",
    "        gap=\"-\"\n",
    "        X=\"X\"\n",
    "        \n",
    "        # Counters\n",
    "        count=0 #counts how many amino acids identical to human are present in pos (pos_bfr = hpos_bfr and pos_aft = hpos_aft)\n",
    "        uncount=0 #counts how many amino acids identical to human are present in pos when pos_bfr != hpos_bfr or pos_aft != hpos_aft\n",
    "        uncer=0 #counts how many amino acids different from human are present in pos when pos_bfr != hpos_bfr or pos_aft != hpos_aft\n",
    "        X_count=0\n",
    "        gap_count=0\n",
    "        \n",
    "        # Lists of amino acids\n",
    "        sub_list=[] # will collect amino acids when pos_bfr = hpos_bfr and pos_aft = hpos_aft\n",
    "        uncert_list=[] # will collect amino acids when pos when pos_bfr != hpos_bfr or pos_aft != hpos_aft\n",
    "        # Human lists\n",
    "        human_list=[human_pos,gap,X] \n",
    "        hpos_bfr_list=[hpos_bfr,gap,X]\n",
    "        hpos_aft_list=[hpos_aft,gap,X]\n",
    "\n",
    "        # Lenght\n",
    "        lenght=len(human)-1\n",
    "        seq_num=len(seqen)-1\n",
    "        \n",
    "        for i in seqen[1:]: # start from 1, because first(0) sequence is human\n",
    "            \n",
    "            # special case for the first amino acid           \n",
    "            if pos==0:\n",
    "                if i[pos] in human_list:\n",
    "                    # identical amino acid in identical fragment\n",
    "                    if i[pos_aft] in hpos_aft_list:\n",
    "                        count+=1\n",
    "                    elif i[pos_aft] not in hpos_aft_list:\n",
    "                        uncount+=1\n",
    "\n",
    "                elif i[pos] not in human_list:\n",
    "                    # not identical amino acid in identical fragment\n",
    "                    if i[pos_aft] in hpos_aft_list:\n",
    "                        sub_list.append(i[pos]) # Add amino acid to the list of substitution\n",
    "\n",
    "                    # not identical amino acid in not identical fragment   \n",
    "                    elif i[pos_aft] not in hpos_aft_list:\n",
    "                        uncer+=1 \n",
    "                        uncert_list.append(i[pos]) # Add amino acid to the list of uncertain prediction\n",
    "           \n",
    "            # special case for the last amino acid           \n",
    "            if pos==lenght:\n",
    "                if i[pos] in human_list:\n",
    "                    # identical amino acid in identical fragment\n",
    "                    if i[pos_bfr] in hpos_bfr_list :\n",
    "                        count+=1\n",
    "                    elif i[pos_bfr] not in hpos_bfr_list :\n",
    "                        uncount+=1\n",
    "\n",
    "                elif i[pos] not in human_list:\n",
    "                    # not identical amino acid in identical fragment\n",
    "                    if i[pos_bfr] in hpos_bfr_list:\n",
    "                        sub_list.append(i[pos]) # Add amino acid to the list of substitution\n",
    "\n",
    "                    # not identical amino acid in not identical fragment   \n",
    "                    elif i[pos_bfr] not in hpos_bfr_list:\n",
    "                        uncer+=1 \n",
    "                        uncert_list.append(i[pos]) # Add amino acid to the list of uncertain prediction\n",
    "            \n",
    "            # all other    \n",
    "            elif pos in range (1,lenght-1):   \n",
    "                if i[pos] in human_list:\n",
    "                    # identical amino acid in identical fragment\n",
    "                    if (i[pos_bfr] in hpos_bfr_list) and (i[pos_aft] in hpos_aft_list):\n",
    "                        count+=1\n",
    "                    elif (i[pos_bfr] not in hpos_bfr_list) or (i[pos_aft] not in hpos_aft_list):\n",
    "                        uncount+=1\n",
    "\n",
    "                elif i[pos] not in human_list:\n",
    "                    # not identical amino acid in identical fragment\n",
    "                    if (i[pos_bfr] in hpos_bfr_list and i[pos_aft] in hpos_aft_list):\n",
    "                        sub_list.append(i[pos]) # Add amino acid to the list of substitution\n",
    "\n",
    "                    # not identical amino acid in not identical fragment   \n",
    "                    elif (i[pos_bfr] not in hpos_bfr_list) or (i[pos_aft] not in hpos_aft_list):\n",
    "                        uncer+=1 \n",
    "                        uncert_list.append(i[pos]) # Add amino acid to the list of uncertain prediction\n",
    "\n",
    "\n",
    "        total=count+uncount # count the number of identical to human amino acids in pos\n",
    "        \n",
    "        # Editing the lists\n",
    "        sub_list=list(set(sub_list))\n",
    "        sub_list=(\",\".join(sub_list))\n",
    "        sub_list=sub_list.replace(\",\",\" \")\n",
    "        \n",
    "        uncert_list=list(set(uncert_list))\n",
    "        uncert_list=(\",\".join(uncert_list))\n",
    "        uncert_list=uncert_list.replace(\",\",\" \")\n",
    "        \n",
    "        x=(\",\".join(x))\n",
    "        x=x.replace(\",\",\" \")\n",
    "        \n",
    "        # Writing the results and predictions into csv file clinvar_predictions.csv\n",
    "        if seq_num-total==0 and uncer == 0:\n",
    "            data=(x,'Damaging',total, 0, uncert_list or 0)\n",
    "            #data=(x,'Damaging',total, 0, 0, count, uncount, pos)\n",
    "            writer.writerow(data)\n",
    "        elif seq_num-total>0 and x[-1] in sub_list and uncer == 0:\n",
    "            data=(x,'Benign',total, sub_list, uncert_list or 0)\n",
    "            writer.writerow(data)\n",
    "        elif seq_num-total <= 1 and x[-1] not in sub_list:\n",
    "            data=(x,'Damaging', total, sub_list, uncert_list or 0)\n",
    "            writer.writerow(data)\n",
    "        #elif uncer > 0 and (x[-1] in uncert_list or x[-1] in sub_list):# x[-1]- substitute amino acid\n",
    "        #    data=(x,'Uncertain significance', total, sub_list, uncert_list)\n",
    "        #    writer.writerow(data)\n",
    "        else:\n",
    "            data = (x, 'Uncertain', total, sub_list or 0, uncert_list or 0)\n",
    "            writer.writerow(data)\n",
    "\n",
    "        \n"
   ]
  },
  {
   "cell_type": "code",
   "execution_count": 13,
   "id": "f32cbba9",
   "metadata": {},
   "outputs": [
    {
     "data": {
      "text/plain": [
       "292"
      ]
     },
     "execution_count": 13,
     "metadata": {},
     "output_type": "execute_result"
    }
   ],
   "source": [
    "seq_num\n",
    "#human[2269]"
   ]
  },
  {
   "cell_type": "code",
   "execution_count": 14,
   "id": "41009840",
   "metadata": {
    "scrolled": false
   },
   "outputs": [
    {
     "data": {
      "text/plain": [
       "Input                      108\n",
       "Prediction                 108\n",
       "Conservative               108\n",
       "Substitutions              105\n",
       "Uncertain_substitutions    108\n",
       "dtype: int64"
      ]
     },
     "execution_count": 14,
     "metadata": {},
     "output_type": "execute_result"
    }
   ],
   "source": [
    "import pandas as pd\n",
    "predict = pd.read_csv('clinvar_predictions.csv')\n",
    "predict.head()\n",
    "predict[predict['Prediction'] == 'Damaging'].count()\n"
   ]
  },
  {
   "cell_type": "markdown",
   "id": "9b641ea0",
   "metadata": {},
   "source": [
    "## Discription of columns in clinvar_predictions.csv \n",
    "\n",
    "* Input - variants from clinvar or other database in **NP_006209.2 1 M V** format\n",
    "* Prediction - prediction of the variant contribution to the disease\n",
    "* Conservative - number of identical to human amino acids in the position of interest in the concervative region\n",
    "* Substitutions - amino acids that different from human in the position of interest in the concervative region\n",
    "* Uncertain_substitutions - amino acids that different from human in the position of interest in not concervative region"
   ]
  },
  {
   "cell_type": "code",
   "execution_count": null,
   "id": "fe2e8e50",
   "metadata": {},
   "outputs": [],
   "source": []
  }
 ],
 "metadata": {
  "interpreter": {
   "hash": "b284bba50bf9e5886a89e8076488c350ab8e966a42d05bc35dea285ec3d91e10"
  },
  "kernelspec": {
   "display_name": "Python 3.9.7 ('test_env')",
   "language": "python",
   "name": "python3"
  },
  "language_info": {
   "codemirror_mode": {
    "name": "ipython",
    "version": 3
   },
   "file_extension": ".py",
   "mimetype": "text/x-python",
   "name": "python",
   "nbconvert_exporter": "python",
   "pygments_lexer": "ipython3",
   "version": "3.9.7"
  }
 },
 "nbformat": 4,
 "nbformat_minor": 5
}
