{
 "cells": [
  {
   "cell_type": "code",
   "execution_count": 33,
   "metadata": {},
   "outputs": [],
   "source": [
    "import Bio\n",
    "from Bio import SeqIO\n",
    "import csv\n",
    "\n",
    "\n",
    "set1_name = 'trees_ML/algn/notch4/re_new/set1.fa'\n",
    "set2_name = 'trees_ML/algn/notch4/re_new/notch4.fa'\n",
    "var_file = 'variants/notch4_table'"
   ]
  },
  {
   "cell_type": "code",
   "execution_count": 34,
   "metadata": {},
   "outputs": [],
   "source": [
    "set1_msa={}\n",
    "\n",
    "for line in SeqIO.parse(set1_name,\"fasta\"):\n",
    "    set1_msa[line.id] = str(line.seq)\n"
   ]
  },
  {
   "cell_type": "code",
   "execution_count": 35,
   "metadata": {},
   "outputs": [],
   "source": [
    "set2_msa={}\n",
    "\n",
    "for line in SeqIO.parse(set2_name,\"fasta\"):\n",
    "    set2_msa[line.id] = str(line.seq)"
   ]
  },
  {
   "cell_type": "code",
   "execution_count": 36,
   "metadata": {},
   "outputs": [],
   "source": [
    "set_diff_msa={}\n",
    "\n",
    "for i in set2_msa:\n",
    "    if i not in set1_msa.keys():\n",
    "        set_diff_msa[i] = set2_msa[i]"
   ]
  },
  {
   "cell_type": "code",
   "execution_count": 37,
   "metadata": {},
   "outputs": [],
   "source": [
    "clinvar=[]\n",
    "with open(var_file) as f:\n",
    "    for line in f:\n",
    "        clinvar.append(str(line))       \n",
    "clean_clinvar=[]\n",
    "for i in clinvar:\n",
    "    new=i.strip(\"\\n\")\n",
    "    clean_clinvar.append(new.split(\" \"))\n",
    "#clean_clinvar"
   ]
  },
  {
   "cell_type": "code",
   "execution_count": 38,
   "metadata": {},
   "outputs": [],
   "source": [
    "header=['Input', 'Prediction', 'Conservative', 'Substitutions_Set1'\\\n",
    "    , \"N_Substitutions_Set1\", 'Substitutions_Set2','N_Substitutions_Set2/Set1']\n",
    "\n",
    "classes = {'p1':[],'p2':[],'p3':[],'p4':[],'p5':[],'p6':[],'p7':[],'p8':[]}\n",
    "\n",
    "with open('n4_saver_test.csv', 'w', encoding='UTF8') as f:\n",
    "    writer = csv.writer(f)\n",
    "    # write the header\n",
    "    writer.writerow(header)\n",
    "\n",
    "    for x in clean_clinvar: \n",
    "        # Positions\n",
    "        pos=int(x[1])-1 # position of interest in alligned sequences\n",
    "        AA1=x[-1]\n",
    "\n",
    "        # Human positions\n",
    "\n",
    "# NP_000426.2_neurogenic_locus_notch_homolog_protein_3_precursor_[Homo_sapiens]= n3\n",
    "# NP_060087.3 = n1\n",
    "# NP_077719.2 = n2\n",
    "# NP_004548.3 = n4\n",
    "\n",
    "        human=set1_msa['NP_004548.3'] # human sequence\n",
    "        human_pos=set1_msa['NP_004548.3'][pos]\n",
    "\n",
    "        # Gaps and X-amino acids\n",
    "        gap=\"-\"\n",
    "        X=\"X\"\n",
    "\n",
    "        # Counters\n",
    "        AA0_count = 0 #counts how many amino acids identical to human are present in pos\n",
    "        AA1_set1_count = 0 #counts how many AA1 are present in pos in set1\n",
    "        AA1_set2_count = 0\n",
    "        AA1_set_diff_count = 0 #counts how many AA1 are present in pos in set2-set1\n",
    "        X_count=0 #?\n",
    "        gap_count=0 #?\n",
    "\n",
    "        # Lists of amino acids\n",
    "        set1_sub_list=[] # will collect amino acids subsititions in set1\n",
    "        set2_sub_list=[] # will collect amino acids subsititions in set2\n",
    "        set_diff_sub_list=[]\n",
    "\n",
    "        # Human lists\n",
    "        human_list=[human_pos,gap,X] \n",
    "\n",
    "        for seq in list(set1_msa.values())[1:]: # start from 1, because first(0) sequence is human\n",
    "\n",
    "            if seq[pos] in human_list:\n",
    "                AA0_count += 1\n",
    "            elif seq[pos] == AA1:\n",
    "                AA1_set1_count += 1\n",
    "                set1_sub_list.append(seq[pos])\n",
    "            else:\n",
    "                set1_sub_list.append(seq[pos])\n",
    "        \n",
    "        for seq2 in list(set2_msa.values())[1:]: # checking AA1 in set2\n",
    "            \n",
    "            if seq2[pos] == AA1:\n",
    "                AA1_set2_count += 1\n",
    "                set2_sub_list.append(seq2[pos])\n",
    "        \n",
    "        for seq3 in list(set_diff_msa.values()): #counting AA1 in set2-set1\n",
    "            \n",
    "            if seq3[pos] == AA1:\n",
    "                AA1_set_diff_count += 1\n",
    "                set_diff_sub_list.append(seq3[pos])\n",
    "                \n",
    "        \n",
    "        # Editing the lists\n",
    "        set1_sub_list = list(set(set1_sub_list))\n",
    "        set1_sub_list = (\",\".join(set1_sub_list))\n",
    "        set1_sub_list = set1_sub_list.replace(\",\",\" \")\n",
    "        \n",
    "        set2_sub_list = list(set(set2_sub_list))\n",
    "        set2_sub_list = (\",\".join(set2_sub_list))\n",
    "        set2_sub_list = set2_sub_list.replace(\",\",\" \")\n",
    "        \n",
    "        x = (\",\".join(x))\n",
    "        x = x.replace(\",\",\" \")\n",
    "        \n",
    "                    \n",
    "        if AA0_count == len(set1_msa)-1: # AA0 fully conserved in set1 (first sequence is human)\n",
    "            classes['p1'].append(x)\n",
    "            data = (x,'Damaging',AA0_count, set1_sub_list, AA1_set1_count,\\\n",
    "                set2_sub_list, AA1_set_diff_count)\n",
    "            writer.writerow(data)\n",
    "        elif AA1_set1_count > 1: # Set1 has AA1 with > 1 events\n",
    "            data=(x,'Benign',AA0_count, set1_sub_list, AA1_set1_count,\\\n",
    "                set2_sub_list, AA1_set_diff_count)\n",
    "            writer.writerow(data)\n",
    "            classes['p2'].append(x)\n",
    "        elif AA1_set1_count == 1 and (AA1 in set_diff_sub_list): #Set1 has single event of AA1 and AA1 is alse seen in set2-set1\n",
    "            data=(x,'Benign',AA0_count, set1_sub_list, AA1_set1_count,\\\n",
    "                set2_sub_list, AA1_set_diff_count)\n",
    "            writer.writerow(data)\n",
    "            classes['p3'].append(x)\n",
    "        elif AA1 not in set2_sub_list: # AA1 not seen in set2\n",
    "            data=(x,'Damaging',AA0_count, set1_sub_list, AA1_set1_count,\\\n",
    "                set2_sub_list, AA1_set_diff_count)\n",
    "            writer.writerow(data)\n",
    "            classes['p4'].append(x)\n",
    "        elif len(set1_sub_list) < 3: # Position not moderately variable in set1 \n",
    "            data=(x,'Damaging',AA0_count, set1_sub_list, AA1_set1_count,\\\n",
    "                set2_sub_list, AA1_set_diff_count)\n",
    "            writer.writerow(data)\n",
    "            classes['p5'].append(x)\n",
    "        elif len(set1_sub_list) in range(3,6) and (AA1_set_diff_count >1): # Position moderately variable in set1 and set2-set1 has AA1 with >1 event\n",
    "            data=(x,'Benign',AA0_count, set1_sub_list, AA1_set1_count,\\\n",
    "                set2_sub_list, AA1_set_diff_count)\n",
    "            writer.writerow(data)\n",
    "            classes['p6'].append(x)\n",
    "        elif len(set1_sub_list) > 5: # Position hyper-variable in set 1\n",
    "            data=(x,'Benign',AA0_count, set1_sub_list, AA1_set1_count,\\\n",
    "                set2_sub_list, AA1_set_diff_count)\n",
    "            writer.writerow(data)\n",
    "            classes['p7'].append(x)\n",
    "        else:\n",
    "            data=(x,'Damaging',AA0_count, set1_sub_list, AA1_set1_count,\\\n",
    "                set2_sub_list, AA1_set_diff_count)\n",
    "            writer.writerow(data)\n",
    "            classes['p8'].append(x)"
   ]
  },
  {
   "cell_type": "code",
   "execution_count": 39,
   "metadata": {},
   "outputs": [
    {
     "data": {
      "text/plain": [
       "['NP_004548.3 1213 G R', 'NP_004548.3 1099 G R', 'NP_004548.3 815 C G']"
      ]
     },
     "execution_count": 39,
     "metadata": {},
     "output_type": "execute_result"
    }
   ],
   "source": [
    "classes['p1']"
   ]
  },
  {
   "cell_type": "code",
   "execution_count": 41,
   "metadata": {},
   "outputs": [
    {
     "data": {
      "text/plain": [
       "Benign      7\n",
       "Damaging    3\n",
       "Name: Prediction, dtype: int64"
      ]
     },
     "execution_count": 41,
     "metadata": {},
     "output_type": "execute_result"
    }
   ],
   "source": [
    "import pandas as pd\n",
    "df = pd.read_csv('n4_saver_test.csv')\n",
    "df.Prediction.value_counts()"
   ]
  }
 ],
 "metadata": {
  "kernelspec": {
   "display_name": "Python 3.9.7 ('test_env')",
   "language": "python",
   "name": "python3"
  },
  "language_info": {
   "codemirror_mode": {
    "name": "ipython",
    "version": 3
   },
   "file_extension": ".py",
   "mimetype": "text/x-python",
   "name": "python",
   "nbconvert_exporter": "python",
   "pygments_lexer": "ipython3",
   "version": "3.9.7 (default, Sep 16 2021, 13:09:58) \n[GCC 7.5.0]"
  },
  "orig_nbformat": 4,
  "vscode": {
   "interpreter": {
    "hash": "b284bba50bf9e5886a89e8076488c350ab8e966a42d05bc35dea285ec3d91e10"
   }
  }
 },
 "nbformat": 4,
 "nbformat_minor": 2
}
