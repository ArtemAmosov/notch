{
 "cells": [
  {
   "cell_type": "code",
   "execution_count": 2,
   "metadata": {},
   "outputs": [],
   "source": [
    "import pandas as pd\n",
    "import numpy as np\n",
    "import csv\n",
    "import re"
   ]
  },
  {
   "cell_type": "code",
   "execution_count": 400,
   "metadata": {},
   "outputs": [],
   "source": [
    "data =[]\n",
    "data.append(['Algo', 'TP', 'FN', 'TN', 'FP', 'Sensitivity', 'Specificity', 'Accuracy'])\n",
    "falses = dict()"
   ]
  },
  {
   "cell_type": "markdown",
   "metadata": {},
   "source": [
    "# CLINVAR table\n"
   ]
  },
  {
   "cell_type": "code",
   "execution_count": 401,
   "metadata": {},
   "outputs": [
    {
     "data": {
      "text/plain": [
       "Benign        26\n",
       "Pathogenic     7\n",
       "Name: Effect, dtype: int64"
      ]
     },
     "execution_count": 401,
     "metadata": {},
     "output_type": "execute_result"
    }
   ],
   "source": [
    "clin2 = pd.read_csv('variants/notch1_clinvar.csv')\n",
    "clin2 = clin2[['Protein_id','Position','Ref','Variant','Effect']].copy()\n",
    "clin2.Effect.value_counts()"
   ]
  },
  {
   "cell_type": "markdown",
   "metadata": {},
   "source": [
    "# POLYPHEN table\n"
   ]
  },
  {
   "cell_type": "code",
   "execution_count": 402,
   "metadata": {},
   "outputs": [
    {
     "name": "stderr",
     "output_type": "stream",
     "text": [
      "/tmp/ipykernel_30348/1373562384.py:25: SettingWithCopyWarning: \n",
      "A value is trying to be set on a copy of a slice from a DataFrame.\n",
      "Try using .loc[row_indexer,col_indexer] = value instead\n",
      "\n",
      "See the caveats in the documentation: https://pandas.pydata.org/pandas-docs/stable/user_guide/indexing.html#returning-a-view-versus-a-copy\n",
      "  pph2['Res'] = ['-' for i in range(len(pph2))]\n"
     ]
    }
   ],
   "source": [
    "#notch3 variants/batch_results/notch3_polyphen.txt\n",
    "#notch1 variants/batch_results/notch1_polyphen.txt\n",
    "pph = pd.read_table('variants/batch_results/notch1_polyphen.txt')\n",
    "pph.head()\n",
    "\n",
    "## Make normal names\n",
    "names = pph.columns\n",
    "new_names = []\n",
    "for name in names:\n",
    "    new_names.append(re.search(r'(\\w+(-\\w+)?)', name).group(0))\n",
    "pph.columns = new_names\n",
    "\n",
    "## Make normal pph2_class\n",
    "\n",
    "res = list(pph['pph2_class'])\n",
    "new_res = []\n",
    "for r in res:\n",
    "    new_res.append(re.search(r'[a-z]*$', r).group())\n",
    "pph['pph2_class'] = new_res\n",
    "\n",
    "#print(re.search(r'[a-z]*$', res[0]).group())\n",
    "\n",
    "### New df with selected cols\n",
    "pph2 = pph[['pos', 'aa1', 'aa2', 'prediction', 'pph2_class', 'pph2_FPR', 'pph2_TPR', 'pph2_FDR']]\n",
    "pph2['Res'] = ['-' for i in range(len(pph2))]\n",
    "\n",
    "#pph\n"
   ]
  },
  {
   "cell_type": "code",
   "execution_count": 403,
   "metadata": {},
   "outputs": [
    {
     "name": "stderr",
     "output_type": "stream",
     "text": [
      "/tmp/ipykernel_30348/4194895735.py:11: SettingWithCopyWarning: \n",
      "A value is trying to be set on a copy of a slice from a DataFrame\n",
      "\n",
      "See the caveats in the documentation: https://pandas.pydata.org/pandas-docs/stable/user_guide/indexing.html#returning-a-view-versus-a-copy\n",
      "  pph2['Res'][i] = 'FP'\n",
      "/tmp/ipykernel_30348/4194895735.py:14: SettingWithCopyWarning: \n",
      "A value is trying to be set on a copy of a slice from a DataFrame\n",
      "\n",
      "See the caveats in the documentation: https://pandas.pydata.org/pandas-docs/stable/user_guide/indexing.html#returning-a-view-versus-a-copy\n",
      "  pph2['Res'][i] = 'TN'\n",
      "/tmp/ipykernel_30348/4194895735.py:8: SettingWithCopyWarning: \n",
      "A value is trying to be set on a copy of a slice from a DataFrame\n",
      "\n",
      "See the caveats in the documentation: https://pandas.pydata.org/pandas-docs/stable/user_guide/indexing.html#returning-a-view-versus-a-copy\n",
      "  pph2['Res'][i] = 'TP'\n"
     ]
    },
    {
     "name": "stdout",
     "output_type": "stream",
     "text": [
      "7 16 10 0\n"
     ]
    }
   ],
   "source": [
    "TP = 0\n",
    "TN = 0\n",
    "FP = 0\n",
    "FN = 0\n",
    "for i in range(len(pph2)):\n",
    "    if pph2['pph2_class'][i] == 'deleterious' and clin2['Effect'][i] == 'Pathogenic':\n",
    "        TP +=1\n",
    "        pph2['Res'][i] = 'TP'\n",
    "    if pph2['pph2_class'][i] == 'deleterious' and clin2['Effect'][i] == 'Benign':\n",
    "        FP +=1\n",
    "        pph2['Res'][i] = 'FP'\n",
    "    if pph2['pph2_class'][i] == 'neutral' and clin2['Effect'][i] == 'Benign':\n",
    "        TN +=1\n",
    "        pph2['Res'][i] = 'TN' \n",
    "    if pph2['pph2_class'][i] == 'neutral' and clin2['Effect'][i] == 'Pathogenic':\n",
    "        FN +=1\n",
    "        pph2['Res'][i] = 'FN'\n",
    "print(TP, TN, FP, FN)\n",
    "#pph2\n"
   ]
  },
  {
   "cell_type": "code",
   "execution_count": 404,
   "metadata": {},
   "outputs": [
    {
     "name": "stdout",
     "output_type": "stream",
     "text": [
      "Spec = 0.6153846153846154\n",
      "Acc = 0.696969696969697\n",
      "FDR = 0.5882352941176471\n"
     ]
    }
   ],
   "source": [
    "Sens = TP/(TP+FN)\n",
    "Spec = TN/(TN+FP)\n",
    "Acc = (TP+TN)/(TP+TN+FP+FN)\n",
    "FDR = 1 - (TP/(TP+FP))\n",
    "#MCC =((TP*TN)-(FP*FN))/((TP+FP)*(TP+FN)*(TN+FN)*(TN+FP))**0.5\n",
    "\n",
    "\n",
    "#print('Sens =', TP/(TP+FN))\n",
    "print('Spec =', TN/(TN+FP))\n",
    "print('Acc =', (TP+TN)/(TP+TN+FP+FN))\n",
    "print('FDR =', 1 - (TP/(TP+FP)))\n",
    "#print('MCC =', ((TP*TN)-(FP*FN))/((TP+FP)*(TP+FN)*(TN+FN)*(TN+FP))**0.5)\n",
    "\n",
    "\n",
    "\n",
    "#Sens = 0\n",
    "data.append(['Polyphen',TP, FN, TN, FP, Sens,Spec,Acc])\n"
   ]
  },
  {
   "cell_type": "markdown",
   "metadata": {},
   "source": [
    "# PROVEAN table"
   ]
  },
  {
   "cell_type": "code",
   "execution_count": 405,
   "metadata": {},
   "outputs": [
    {
     "name": "stderr",
     "output_type": "stream",
     "text": [
      "/tmp/ipykernel_30348/245815485.py:8: SettingWithCopyWarning: \n",
      "A value is trying to be set on a copy of a slice from a DataFrame.\n",
      "Try using .loc[row_indexer,col_indexer] = value instead\n",
      "\n",
      "See the caveats in the documentation: https://pandas.pydata.org/pandas-docs/stable/user_guide/indexing.html#returning-a-view-versus-a-copy\n",
      "  prov2['res'] = ['-' for i in range(len(clin2.Protein_id))]\n"
     ]
    }
   ],
   "source": [
    "# n1 variants/batch_results/notch1_prov.tsv\n",
    "# n3 variants/batch_results/notch3_provean_sift.tsv\n",
    "\n",
    "\n",
    "provean = pd.read_table('variants/batch_results/notch1_provean.tsv')\n",
    "provean\n",
    "prov2 = provean[['POSITION','RESIDUE_REF','RESIDUE_ALT','PREDICTION (cutoff=-2.5)', 'PREDICTION (cutoff=0.05)']]\n",
    "prov2['res'] = ['-' for i in range(len(clin2.Protein_id))]\n",
    "names = ['pos', 'ref', 'alt', 'provean', 'sift', 'res']\n",
    "prov2.columns = names\n",
    "#prov2\n"
   ]
  },
  {
   "cell_type": "markdown",
   "metadata": {},
   "source": [
    "# Provean\n"
   ]
  },
  {
   "cell_type": "code",
   "execution_count": 406,
   "metadata": {},
   "outputs": [
    {
     "name": "stderr",
     "output_type": "stream",
     "text": [
      "/tmp/ipykernel_30348/1123076465.py:17: SettingWithCopyWarning: \n",
      "A value is trying to be set on a copy of a slice from a DataFrame\n",
      "\n",
      "See the caveats in the documentation: https://pandas.pydata.org/pandas-docs/stable/user_guide/indexing.html#returning-a-view-versus-a-copy\n",
      "  prov2['res'][i] = 'TN'\n",
      "/tmp/ipykernel_30348/1123076465.py:13: SettingWithCopyWarning: \n",
      "A value is trying to be set on a copy of a slice from a DataFrame\n",
      "\n",
      "See the caveats in the documentation: https://pandas.pydata.org/pandas-docs/stable/user_guide/indexing.html#returning-a-view-versus-a-copy\n",
      "  prov2['res'][i] = 'FP'\n",
      "/tmp/ipykernel_30348/1123076465.py:10: SettingWithCopyWarning: \n",
      "A value is trying to be set on a copy of a slice from a DataFrame\n",
      "\n",
      "See the caveats in the documentation: https://pandas.pydata.org/pandas-docs/stable/user_guide/indexing.html#returning-a-view-versus-a-copy\n",
      "  prov2['res'][i] = 'TP'\n"
     ]
    },
    {
     "name": "stdout",
     "output_type": "stream",
     "text": [
      "7 22 4 0\n"
     ]
    }
   ],
   "source": [
    "TP = 0\n",
    "TN = 0\n",
    "FP = 0\n",
    "FN = 0\n",
    "prov_fp = []\n",
    "prov_fn = []\n",
    "for i in range(len(clin2.Protein_id)):\n",
    "    if prov2['provean'][i] == 'Deleterious' and clin2['Effect'][i] == 'Pathogenic':\n",
    "        TP +=1\n",
    "        prov2['res'][i] = 'TP'\n",
    "    if prov2['provean'][i] == 'Deleterious' and clin2['Effect'][i] == 'Benign':\n",
    "        FP +=1\n",
    "        prov2['res'][i] = 'FP'\n",
    "        prov_fp.append(f'NP_000426.2 {prov2.pos[i]} {prov2.ref[i]} {prov2.alt[i]}')\n",
    "    if prov2['provean'][i] == 'Neutral' and clin2['Effect'][i] == 'Benign':\n",
    "        TN +=1\n",
    "        prov2['res'][i] = 'TN' \n",
    "    if prov2['provean'][i] == 'Neutral' and clin2['Effect'][i] == 'Pathogenic':\n",
    "        FN +=1\n",
    "        prov2['res'][i] = 'FN'\n",
    "        prov_fn.append(f'NP_000426.2 {prov2.pos[i]} {prov2.ref[i]} {prov2.alt[i]}')\n",
    "print(TP, TN, FP, FN)\n",
    "\n"
   ]
  },
  {
   "cell_type": "code",
   "execution_count": 407,
   "metadata": {},
   "outputs": [
    {
     "name": "stdout",
     "output_type": "stream",
     "text": [
      "Spec = 0.8461538461538461\n",
      "Acc = 0.8787878787878788\n",
      "FDR = 0.36363636363636365\n"
     ]
    }
   ],
   "source": [
    "Sens =TP/(TP+FN)\n",
    "Spec =TN/(TN+FP)\n",
    "Acc =(TP+TN)/(TP+TN+FP+FN)\n",
    "FDR =1 - (TP/(TP+FP))\n",
    "#MCC =((TP*TN)-(FP*FN))/((TP+FP)*(TP+FN)*(TN+FN)*(TN+FP))**0.5\n",
    "\n",
    "\n",
    "\n",
    "#print('Sens =', TP/(TP+FN))\n",
    "print('Spec =', TN/(TN+FP))\n",
    "print('Acc =', (TP+TN)/(TP+TN+FP+FN))\n",
    "print('FDR =', 1 - (TP/(TP+FP)))\n",
    "#print('MCC =', ((TP*TN)-(FP*FN))/((TP+FP)*(TP+FN)*(TN+FN)*(TN+FP))**0.5)\n",
    "\n",
    "#Sens = 0\n",
    "data.append(['Provean', TP, FN, TN, FP, Sens,Spec,Acc])\n"
   ]
  },
  {
   "cell_type": "markdown",
   "metadata": {},
   "source": [
    "# SIFT"
   ]
  },
  {
   "cell_type": "code",
   "execution_count": 408,
   "metadata": {},
   "outputs": [
    {
     "name": "stderr",
     "output_type": "stream",
     "text": [
      "/tmp/ipykernel_30348/3361778008.py:14: SettingWithCopyWarning: \n",
      "A value is trying to be set on a copy of a slice from a DataFrame\n",
      "\n",
      "See the caveats in the documentation: https://pandas.pydata.org/pandas-docs/stable/user_guide/indexing.html#returning-a-view-versus-a-copy\n",
      "  prov2['res'][i] = 'TN'\n",
      "/tmp/ipykernel_30348/3361778008.py:8: SettingWithCopyWarning: \n",
      "A value is trying to be set on a copy of a slice from a DataFrame\n",
      "\n",
      "See the caveats in the documentation: https://pandas.pydata.org/pandas-docs/stable/user_guide/indexing.html#returning-a-view-versus-a-copy\n",
      "  prov2['res'][i] = 'TP'\n",
      "/tmp/ipykernel_30348/3361778008.py:17: SettingWithCopyWarning: \n",
      "A value is trying to be set on a copy of a slice from a DataFrame\n",
      "\n",
      "See the caveats in the documentation: https://pandas.pydata.org/pandas-docs/stable/user_guide/indexing.html#returning-a-view-versus-a-copy\n",
      "  prov2['res'][i] = 'FN'\n",
      "/tmp/ipykernel_30348/3361778008.py:11: SettingWithCopyWarning: \n",
      "A value is trying to be set on a copy of a slice from a DataFrame\n",
      "\n",
      "See the caveats in the documentation: https://pandas.pydata.org/pandas-docs/stable/user_guide/indexing.html#returning-a-view-versus-a-copy\n",
      "  prov2['res'][i] = 'FP'\n"
     ]
    },
    {
     "name": "stdout",
     "output_type": "stream",
     "text": [
      "6 23 3 1\n"
     ]
    }
   ],
   "source": [
    "TP = 0\n",
    "TN = 0\n",
    "FP = 0\n",
    "FN = 0\n",
    "for i in range(len(clin2.Protein_id)):\n",
    "    if prov2['sift'][i] == 'Damaging' and clin2['Effect'][i] == 'Pathogenic':\n",
    "        TP +=1\n",
    "        prov2['res'][i] = 'TP'\n",
    "    if prov2['sift'][i] == 'Damaging' and clin2['Effect'][i] == 'Benign':\n",
    "        FP +=1\n",
    "        prov2['res'][i] = 'FP'\n",
    "    if prov2['sift'][i] == 'Tolerated' and clin2['Effect'][i] == 'Benign':\n",
    "        TN +=1\n",
    "        prov2['res'][i] = 'TN' \n",
    "    if prov2['sift'][i] == 'Tolerated' and clin2['Effect'][i] == 'Pathogenic':\n",
    "        FN +=1\n",
    "        prov2['res'][i] = 'FN'\n",
    "print(TP, TN, FP, FN)\n",
    "#prov2\n"
   ]
  },
  {
   "cell_type": "code",
   "execution_count": 409,
   "metadata": {},
   "outputs": [
    {
     "name": "stdout",
     "output_type": "stream",
     "text": [
      "Spec = 0.8846153846153846\n",
      "Acc = 0.8787878787878788\n",
      "FDR = 0.33333333333333337\n"
     ]
    }
   ],
   "source": [
    "Sens =TP/(TP+FN)\n",
    "Spec = TN/(TN+FP)\n",
    "Acc = (TP+TN)/(TP+TN+FP+FN)\n",
    "FDR = 1 - (TP/(TP+FP))\n",
    "#MCC =((TP*TN)-(FP*FN))/((TP+FP)*(TP+FN)*(TN+FN)*(TN+FP))**0.5\n",
    "\n",
    "#print('Sens =', TP/(TP+FN))\n",
    "print('Spec =', TN/(TN+FP))\n",
    "print('Acc =', (TP+TN)/(TP+TN+FP+FN))\n",
    "print('FDR =', 1 - (TP/(TP+FP)))\n",
    "#print('MCC =', ((TP*TN)-(FP*FN))/((TP+FP)*(TP+FN)*(TN+FN)*(TN+FP))**0.5)\n",
    "\n",
    "#Sens = 0\n",
    "data.append(['SIFT', TP, FN, TN, FP, Sens,Spec,Acc])\n",
    "\n"
   ]
  },
  {
   "cell_type": "markdown",
   "metadata": {},
   "source": [
    "# Straightforward table"
   ]
  },
  {
   "cell_type": "code",
   "execution_count": 410,
   "metadata": {},
   "outputs": [
    {
     "name": "stdout",
     "output_type": "stream",
     "text": [
      "4 24 0 1\n"
     ]
    }
   ],
   "source": [
    "#n1 ~/Documents/study/project2022_notch/alg_predictions/n1_sf_predictions.csv\n",
    "#n3 ~/Documents/study/project2022_notch/alg_predictions/n3_sf_predictions.csv\n",
    "\n",
    "#stf = pd.read_csv('~/Documents/study/project2022_notch/notch3_sf_predictions.csv')\n",
    "stf = pd.read_csv('n1_stf_test.csv')\n",
    "stf['Res'] = ['-' for i in range(len(clin2.Protein_id))]\n",
    "\n",
    "for i in range(len(stf)):\n",
    "    if stf.Prediction[i] in ['Benign?', 'Benign??']:\n",
    "        stf.Prediction[i] = 'Benign'\n",
    "    if stf.Prediction[i] == 'Pathogenic?':\n",
    "        stf.Prediction[i] = 'Pathogenic'\n",
    "\n",
    "\n",
    "\n",
    "TP = 0\n",
    "TN = 0\n",
    "FP = 0\n",
    "FN = 0\n",
    "stf_tp = []\n",
    "stf_tn = []\n",
    "for i in range(len(clin2.Protein_id)):\n",
    "    if stf['Prediction'][i] == 'Pathogenic' and clin2['Effect'][i] == 'Pathogenic':\n",
    "        TP +=1\n",
    "        stf['Res'][i] = 'TP'\n",
    "        stf_tp.append(stf.Input[i])\n",
    "    if stf['Prediction'][i] == 'Pathogenic' and clin2['Effect'][i] == 'Benign':\n",
    "        FP +=1\n",
    "        stf['Res'][i] = 'FP'\n",
    "    if stf['Prediction'][i] == 'Benign' and clin2['Effect'][i] == 'Benign':\n",
    "        TN +=1\n",
    "        stf['Res'][i] = 'TN' \n",
    "        stf_tn.append(stf.Input[i])\n",
    "    if stf['Prediction'][i] == 'Benign' and clin2['Effect'][i] == 'Pathogenic':\n",
    "        FN +=1\n",
    "        stf['Res'][i] = 'FN'\n",
    "print(TP, TN, FP, FN)\n"
   ]
  },
  {
   "cell_type": "code",
   "execution_count": 411,
   "metadata": {},
   "outputs": [
    {
     "data": {
      "text/plain": [
       "array(['Benign', 'Unknown', 'Pathogenic'], dtype=object)"
      ]
     },
     "execution_count": 411,
     "metadata": {},
     "output_type": "execute_result"
    }
   ],
   "source": [
    "stf.Prediction.unique()"
   ]
  },
  {
   "cell_type": "code",
   "execution_count": 412,
   "metadata": {},
   "outputs": [
    {
     "name": "stdout",
     "output_type": "stream",
     "text": [
      "Spec = 1.0\n",
      "Acc = 0.9655172413793104\n",
      "FDR = 0.0\n"
     ]
    }
   ],
   "source": [
    "Sens =TP/(TP+FN)\n",
    "Spec =TN/(TN+FP) if TN!=0 else 0\n",
    "Acc =(TP+TN)/(TP+TN+FP+FN)\n",
    "FDR =1 - (TP/(TP+FP))\n",
    "#MCC =((TP*TN)-(FP*FN))/((TP+FP)*(TP+FN)*(TN+FN)*(TN+FP))**0.5\n",
    "\n",
    "\n",
    "#print('Sens =', TP/(TP+FN))\n",
    "print('Spec =', TN/(TN+FP) if TN!=0 else 0)\n",
    "print('Acc =', (TP+TN)/(TP+TN+FP+FN))\n",
    "print('FDR =', 1 - (TP/(TP+FP)))\n",
    "#print('MCC =', ((TP*TN)-(FP*FN))/((TP+FP)*(TP+FN)*(TN+FN)*(TN+FP))**0.5)\n",
    "\n",
    "\n",
    "#Sens = 0\n",
    "data.append(['Straight_no_uncert', TP, FN, TN, FP, Sens,Spec,Acc])\n"
   ]
  },
  {
   "cell_type": "code",
   "execution_count": 413,
   "metadata": {},
   "outputs": [
    {
     "name": "stdout",
     "output_type": "stream",
     "text": [
      "4 24 2 3\n"
     ]
    }
   ],
   "source": [
    "\n",
    "TP = 0\n",
    "TN = 0\n",
    "FP = 0\n",
    "FN = 0\n",
    "\n",
    "for i in range(len(clin2.Protein_id)):\n",
    "    if stf['Prediction'][i] == 'Pathogenic' and clin2['Effect'][i] == 'Pathogenic':\n",
    "        TP +=1\n",
    "        stf['Res'][i] = 'TP'\n",
    "    if stf['Prediction'][i] == 'Pathogenic' and clin2['Effect'][i] == 'Benign':\n",
    "        FP +=1\n",
    "        stf['Res'][i] = 'FP'\n",
    "    if stf['Prediction'][i] == 'Benign' and clin2['Effect'][i] == 'Benign':\n",
    "        TN +=1\n",
    "        stf['Res'][i] = 'TN' \n",
    "    if stf['Prediction'][i] == 'Benign' and clin2['Effect'][i] == 'Pathogenic':\n",
    "        FN +=1\n",
    "        stf['Res'][i] = 'FN'\n",
    "    if stf['Prediction'][i] == 'Unknown' and clin2['Effect'][i] == 'Pathogenic':\n",
    "        FN +=1\n",
    "        stf['Res'][i] = 'FN'\n",
    "    if stf['Prediction'][i] == 'Unknown' and clin2['Effect'][i] == 'Benign':\n",
    "        FP +=1\n",
    "        stf['Res'][i] = 'FP'\n",
    "print(TP, TN, FP, FN)"
   ]
  },
  {
   "cell_type": "code",
   "execution_count": 414,
   "metadata": {},
   "outputs": [
    {
     "name": "stdout",
     "output_type": "stream",
     "text": [
      "Spec = 0.9230769230769231\n",
      "Acc = 0.8484848484848485\n",
      "FDR = 0.33333333333333337\n"
     ]
    }
   ],
   "source": [
    "Sens =TP/(TP+FN)\n",
    "Spec =TN/(TN+FP) if TN!=0 else 0\n",
    "Acc =(TP+TN)/(TP+TN+FP+FN)\n",
    "FDR =1 - (TP/(TP+FP))\n",
    "#MCC =((TP*TN)-(FP*FN))/((TP+FP)*(TP+FN)*(TN+FN)*(TN+FP))**0.5\n",
    "\n",
    "\n",
    "#print('Sens =', TP/(TP+FN))\n",
    "print('Spec =', TN/(TN+FP) if TN!=0 else 0)\n",
    "print('Acc =', (TP+TN)/(TP+TN+FP+FN))\n",
    "print('FDR =', 1 - (TP/(TP+FP)))\n",
    "#print('MCC =', ((TP*TN)-(FP*FN))/((TP+FP)*(TP+FN)*(TN+FN)*(TN+FP))**0.5)\n",
    "\n",
    "#Sens = 0\n",
    "data.append(['Straight_with_uncert', TP, FN, TN, FP, Sens,Spec,Acc])\n"
   ]
  },
  {
   "cell_type": "markdown",
   "metadata": {},
   "source": [
    "### SAVER\n"
   ]
  },
  {
   "cell_type": "code",
   "execution_count": 415,
   "metadata": {},
   "outputs": [
    {
     "name": "stderr",
     "output_type": "stream",
     "text": [
      "/tmp/ipykernel_30348/3278054366.py:16: SettingWithCopyWarning: \n",
      "A value is trying to be set on a copy of a slice from a DataFrame\n",
      "\n",
      "See the caveats in the documentation: https://pandas.pydata.org/pandas-docs/stable/user_guide/indexing.html#returning-a-view-versus-a-copy\n",
      "  saver['Res'][i] = 'FP'\n",
      "/tmp/ipykernel_30348/3278054366.py:19: SettingWithCopyWarning: \n",
      "A value is trying to be set on a copy of a slice from a DataFrame\n",
      "\n",
      "See the caveats in the documentation: https://pandas.pydata.org/pandas-docs/stable/user_guide/indexing.html#returning-a-view-versus-a-copy\n",
      "  saver['Res'][i] = 'TN'\n",
      "/tmp/ipykernel_30348/3278054366.py:12: SettingWithCopyWarning: \n",
      "A value is trying to be set on a copy of a slice from a DataFrame\n",
      "\n",
      "See the caveats in the documentation: https://pandas.pydata.org/pandas-docs/stable/user_guide/indexing.html#returning-a-view-versus-a-copy\n",
      "  saver['Res'][i] = 'TP'\n"
     ]
    },
    {
     "name": "stdout",
     "output_type": "stream",
     "text": [
      "7 19 7 0\n"
     ]
    }
   ],
   "source": [
    "saver = pd.read_csv('n1_saver_test.csv')\n",
    "saver['Res'] = ['-' for i in range(len(clin2.Protein_id))]\n",
    "\n",
    "TP = 0\n",
    "TN = 0\n",
    "FP = 0\n",
    "FN = 0\n",
    "\n",
    "for i in range(len(clin2.Protein_id)):\n",
    "    if saver['Prediction'][i] == 'Damaging' and clin2['Effect'][i] == 'Pathogenic':\n",
    "        TP +=1\n",
    "        saver['Res'][i] = 'TP'\n",
    "        \n",
    "    if saver['Prediction'][i] == 'Damaging' and clin2['Effect'][i] == 'Benign':\n",
    "        FP +=1\n",
    "        saver['Res'][i] = 'FP'\n",
    "    if saver['Prediction'][i] == 'Benign' and clin2['Effect'][i] == 'Benign':\n",
    "        TN +=1\n",
    "        saver['Res'][i] = 'TN' \n",
    "\n",
    "    if saver['Prediction'][i] == 'Benign' and clin2['Effect'][i] == 'Pathogenic':\n",
    "        FN +=1\n",
    "        saver['Res'][i] = 'FN'\n",
    "print(TP, TN, FP, FN)"
   ]
  },
  {
   "cell_type": "code",
   "execution_count": 416,
   "metadata": {},
   "outputs": [
    {
     "name": "stdout",
     "output_type": "stream",
     "text": [
      "Spec = 0.7307692307692307\n",
      "Acc = 0.7878787878787878\n",
      "FDR = 0.5\n"
     ]
    }
   ],
   "source": [
    "Sens =TP/(TP+FN)\n",
    "Spec =TN/(TN+FP) if TN!=0 else 0\n",
    "Acc =(TP+TN)/(TP+TN+FP+FN)\n",
    "FDR =1 - (TP/(TP+FP))\n",
    "#MCC =((TP*TN)-(FP*FN))/((TP+FP)*(TP+FN)*(TN+FN)*(TN+FP))**0.5\n",
    "\n",
    "\n",
    "#print('Sens =', TP/(TP+FN))\n",
    "print('Spec =', TN/(TN+FP) if TN!=0 else 0)\n",
    "print('Acc =', (TP+TN)/(TP+TN+FP+FN))\n",
    "print('FDR =', 1 - (TP/(TP+FP)))\n",
    "#print('MCC =', ((TP*TN)-(FP*FN))/((TP+FP)*(TP+FN)*(TN+FN)*(TN+FP))**0.5)\n",
    "\n",
    "#Sens = 0\n",
    "data.append(['Saver', TP, FN, TN, FP, Sens,Spec,Acc])\n"
   ]
  },
  {
   "cell_type": "code",
   "execution_count": 417,
   "metadata": {},
   "outputs": [],
   "source": [
    "#with open('Stats.csv', 'w', encoding='UTF8') as f:\n",
    "with open('n1_Stats.csv', 'w', encoding='UTF8') as f:\n",
    "    writer = csv.writer(f)\n",
    "    writer.writerows(data)"
   ]
  },
  {
   "cell_type": "code",
   "execution_count": 418,
   "metadata": {},
   "outputs": [
    {
     "data": {
      "image/png": "[encoded data removed]",
      "text/plain": [
       "<Figure size 432x288 with 1 Axes>"
      ]
     },
     "metadata": {},
     "output_type": "display_data"
    }
   ],
   "source": [
    "import matplotlib.pyplot as plt\n",
    "import seaborn as sns\n",
    "\n",
    "#define data\n",
    "data = clin2['Effect'].value_counts()\n",
    "labels = ['Pathogenic', 'Benign']\n",
    "\n",
    "#define Seaborn color palette to use\n",
    "colors = sns.color_palette('pastel')[0:5]\n",
    "\n",
    "#create pie chart\n",
    "plt.pie(data, labels = labels, colors = colors, autopct='%.0f%%')\n",
    "plt.show()"
   ]
  },
  {
   "cell_type": "code",
   "execution_count": 3,
   "metadata": {},
   "outputs": [
    {
     "data": {
      "image/png": "[encoded data removed]",
      "text/plain": [
       "<Figure size 864x576 with 1 Axes>"
      ]
     },
     "metadata": {
      "needs_background": "light"
     },
     "output_type": "display_data"
    }
   ],
   "source": [
    "import numpy as np\n",
    "import matplotlib.pyplot as plt\n",
    "\n",
    "stats = pd.read_csv('n2_Stats.csv')\n",
    "\n",
    "\n",
    "# set width of bar\n",
    "barWidth = 0.25\n",
    "fig = plt.subplots(figsize =(12, 8))\n",
    " \n",
    "# set height of bar\n",
    "Sensitivity = list(stats.Sensitivity)\n",
    "Specificity = list(stats.Specificity)\n",
    "\n",
    " \n",
    "# Set position of bar on X axis\n",
    "br1 = np.arange(len(Sensitivity))\n",
    "br2 = [x + barWidth for x in br1]\n",
    " \n",
    "# Make the plot\n",
    "plt.bar(br1, Sensitivity, color ='b', width = barWidth,\n",
    "        edgecolor ='grey', label ='Sensitivity')\n",
    "plt.bar(br2, Specificity, color ='c', width = barWidth,\n",
    "        edgecolor ='grey', label ='Specificity')\n",
    "\n",
    " \n",
    "# Adding Xticks\n",
    "plt.xlabel('Algo', fontweight ='bold', fontsize = 15)\n",
    "plt.ylabel('Stat_value', fontweight ='bold', fontsize = 15)\n",
    "plt.xticks([r + barWidth for r in range(len(Sensitivity))],\n",
    "        list(stats.Algo))\n",
    " \n",
    "plt.legend()\n",
    "plt.show()"
   ]
  },
  {
   "cell_type": "code",
   "execution_count": 420,
   "metadata": {},
   "outputs": [
    {
     "data": {
      "text/html": [
       "<div>\n",
       "<style scoped>\n",
       "    .dataframe tbody tr th:only-of-type {\n",
       "        vertical-align: middle;\n",
       "    }\n",
       "\n",
       "    .dataframe tbody tr th {\n",
       "        vertical-align: top;\n",
       "    }\n",
       "\n",
       "    .dataframe thead th {\n",
       "        text-align: right;\n",
       "    }\n",
       "</style>\n",
       "<table border=\"1\" class=\"dataframe\">\n",
       "  <thead>\n",
       "    <tr style=\"text-align: right;\">\n",
       "      <th></th>\n",
       "      <th>Algo</th>\n",
       "      <th>TP</th>\n",
       "      <th>FN</th>\n",
       "      <th>TN</th>\n",
       "      <th>FP</th>\n",
       "      <th>Sensitivity</th>\n",
       "      <th>Specificity</th>\n",
       "      <th>Accuracy</th>\n",
       "    </tr>\n",
       "  </thead>\n",
       "  <tbody>\n",
       "    <tr>\n",
       "      <th>0</th>\n",
       "      <td>Polyphen</td>\n",
       "      <td>7</td>\n",
       "      <td>0</td>\n",
       "      <td>16</td>\n",
       "      <td>10</td>\n",
       "      <td>1.000000</td>\n",
       "      <td>0.615385</td>\n",
       "      <td>0.696970</td>\n",
       "    </tr>\n",
       "    <tr>\n",
       "      <th>1</th>\n",
       "      <td>Provean</td>\n",
       "      <td>7</td>\n",
       "      <td>0</td>\n",
       "      <td>22</td>\n",
       "      <td>4</td>\n",
       "      <td>1.000000</td>\n",
       "      <td>0.846154</td>\n",
       "      <td>0.878788</td>\n",
       "    </tr>\n",
       "    <tr>\n",
       "      <th>2</th>\n",
       "      <td>SIFT</td>\n",
       "      <td>6</td>\n",
       "      <td>1</td>\n",
       "      <td>23</td>\n",
       "      <td>3</td>\n",
       "      <td>0.857143</td>\n",
       "      <td>0.884615</td>\n",
       "      <td>0.878788</td>\n",
       "    </tr>\n",
       "    <tr>\n",
       "      <th>3</th>\n",
       "      <td>Straight_no_uncert</td>\n",
       "      <td>4</td>\n",
       "      <td>1</td>\n",
       "      <td>24</td>\n",
       "      <td>0</td>\n",
       "      <td>0.800000</td>\n",
       "      <td>1.000000</td>\n",
       "      <td>0.965517</td>\n",
       "    </tr>\n",
       "    <tr>\n",
       "      <th>4</th>\n",
       "      <td>Straight_with_uncert</td>\n",
       "      <td>4</td>\n",
       "      <td>3</td>\n",
       "      <td>24</td>\n",
       "      <td>2</td>\n",
       "      <td>0.571429</td>\n",
       "      <td>0.923077</td>\n",
       "      <td>0.848485</td>\n",
       "    </tr>\n",
       "    <tr>\n",
       "      <th>5</th>\n",
       "      <td>Saver</td>\n",
       "      <td>7</td>\n",
       "      <td>0</td>\n",
       "      <td>19</td>\n",
       "      <td>7</td>\n",
       "      <td>1.000000</td>\n",
       "      <td>0.730769</td>\n",
       "      <td>0.787879</td>\n",
       "    </tr>\n",
       "  </tbody>\n",
       "</table>\n",
       "</div>"
      ],
      "text/plain": [
       "                   Algo  TP  FN  TN  FP  Sensitivity  Specificity  Accuracy\n",
       "0              Polyphen   7   0  16  10     1.000000     0.615385  0.696970\n",
       "1               Provean   7   0  22   4     1.000000     0.846154  0.878788\n",
       "2                  SIFT   6   1  23   3     0.857143     0.884615  0.878788\n",
       "3    Straight_no_uncert   4   1  24   0     0.800000     1.000000  0.965517\n",
       "4  Straight_with_uncert   4   3  24   2     0.571429     0.923077  0.848485\n",
       "5                 Saver   7   0  19   7     1.000000     0.730769  0.787879"
      ]
     },
     "execution_count": 420,
     "metadata": {},
     "output_type": "execute_result"
    }
   ],
   "source": [
    "stats"
   ]
  },
  {
   "cell_type": "code",
   "execution_count": 421,
   "metadata": {},
   "outputs": [
    {
     "data": {
      "image/png": "[encoded data removed]",
      "text/plain": [
       "<Figure size 432x288 with 1 Axes>"
      ]
     },
     "metadata": {
      "needs_background": "light"
     },
     "output_type": "display_data"
    }
   ],
   "source": [
    "import seaborn as sns\n",
    "ax = sns.barplot(x=\"Algo\", y = 'Accuracy',data=stats)"
   ]
  },
  {
   "cell_type": "markdown",
   "metadata": {},
   "source": [
    "Look for variants:"
   ]
  },
  {
   "cell_type": "code",
   "execution_count": 422,
   "metadata": {},
   "outputs": [],
   "source": [
    "pos = []\n",
    "for i in range(len(clin2.Protein_id)):\n",
    "    if stf['Prediction'][i] == '' and clin2['Effect'][i] == 'Pathogenic':\n",
    "        pos.append(stf['Input'][i])\n",
    "\n"
   ]
  },
  {
   "cell_type": "code",
   "execution_count": 423,
   "metadata": {},
   "outputs": [
    {
     "data": {
      "text/plain": [
       "0"
      ]
     },
     "execution_count": 423,
     "metadata": {},
     "output_type": "execute_result"
    }
   ],
   "source": [
    "# 129 path in clinvar + 37 benign\n",
    "# 99 true path in sf (30 uncert)\n",
    "len(pos)\n",
    "#for i in pos:\n",
    "#    print(i)\n",
    "\n"
   ]
  },
  {
   "cell_type": "code",
   "execution_count": 424,
   "metadata": {},
   "outputs": [
    {
     "data": {
      "text/plain": [
       "[]"
      ]
     },
     "execution_count": 424,
     "metadata": {},
     "output_type": "execute_result"
    }
   ],
   "source": [
    "pos = []\n",
    "for i in range(len(clin2.Protein_id)):\n",
    "    if (stf['Prediction'][i] == 'Damaging' or stf['Prediction'][i] == 'likely Damaging') and clin2['Effect'][i] == 'Benign':\n",
    "        pos.append(stf.Input[i])\n",
    "pos"
   ]
  },
  {
   "cell_type": "code",
   "execution_count": 425,
   "metadata": {},
   "outputs": [
    {
     "name": "stdout",
     "output_type": "stream",
     "text": [
      "Series([], Name: Prediction, dtype: object)\n",
      "Series([], Name: Prediction, dtype: object)\n",
      "Series([], Name: Prediction, dtype: object)\n",
      "Series([], Name: Prediction, dtype: object)\n"
     ]
    }
   ],
   "source": [
    "for i in prov_fp:\n",
    "    print(stf[stf['Input']== i]['Prediction'])\n"
   ]
  },
  {
   "cell_type": "code",
   "execution_count": null,
   "metadata": {},
   "outputs": [
    {
     "data": {
      "text/html": [
       "<div>\n",
       "<style scoped>\n",
       "    .dataframe tbody tr th:only-of-type {\n",
       "        vertical-align: middle;\n",
       "    }\n",
       "\n",
       "    .dataframe tbody tr th {\n",
       "        vertical-align: top;\n",
       "    }\n",
       "\n",
       "    .dataframe thead th {\n",
       "        text-align: right;\n",
       "    }\n",
       "</style>\n",
       "<table border=\"1\" class=\"dataframe\">\n",
       "  <thead>\n",
       "    <tr style=\"text-align: right;\">\n",
       "      <th></th>\n",
       "      <th>pos</th>\n",
       "      <th>ref</th>\n",
       "      <th>alt</th>\n",
       "      <th>provean</th>\n",
       "      <th>sift</th>\n",
       "      <th>res</th>\n",
       "    </tr>\n",
       "  </thead>\n",
       "  <tbody>\n",
       "    <tr>\n",
       "      <th>80</th>\n",
       "      <td>420</td>\n",
       "      <td>G</td>\n",
       "      <td>C</td>\n",
       "      <td>Neutral</td>\n",
       "      <td>Tolerated</td>\n",
       "      <td>FN</td>\n",
       "    </tr>\n",
       "  </tbody>\n",
       "</table>\n",
       "</div>"
      ],
      "text/plain": [
       "    pos ref alt  provean       sift res\n",
       "80  420   G   C  Neutral  Tolerated  FN"
      ]
     },
     "execution_count": 358,
     "metadata": {},
     "output_type": "execute_result"
    }
   ],
   "source": [
    "prov2[prov2['pos'] == 420]\n"
   ]
  }
 ],
 "metadata": {
  "interpreter": {
   "hash": "b284bba50bf9e5886a89e8076488c350ab8e966a42d05bc35dea285ec3d91e10"
  },
  "kernelspec": {
   "display_name": "Python 3.9.7 ('test_env')",
   "language": "python",
   "name": "python3"
  },
  "language_info": {
   "codemirror_mode": {
    "name": "ipython",
    "version": 3
   },
   "file_extension": ".py",
   "mimetype": "text/x-python",
   "name": "python",
   "nbconvert_exporter": "python",
   "pygments_lexer": "ipython3",
   "version": "3.9.7 (default, Sep 16 2021, 13:09:58) \n[GCC 7.5.0]"
  },
  "orig_nbformat": 4
 },
 "nbformat": 4,
 "nbformat_minor": 2
}
