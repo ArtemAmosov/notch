{
 "cells": [
  {
   "cell_type": "code",
   "execution_count": 9,
   "metadata": {},
   "outputs": [
    {
     "name": "stderr",
     "output_type": "stream",
     "text": [
      "/tmp/ipykernel_12465/385844531.py:38: SettingWithCopyWarning: \n",
      "A value is trying to be set on a copy of a slice from a DataFrame.\n",
      "Try using .loc[row_indexer,col_indexer] = value instead\n",
      "\n",
      "See the caveats in the documentation: https://pandas.pydata.org/pandas-docs/stable/user_guide/indexing.html#returning-a-view-versus-a-copy\n",
      "  clin2['Effect'] = eff\n"
     ]
    }
   ],
   "source": [
    "# NP_000426.2 = n3\n",
    "# NP_060087.3 = n1\n",
    "# NP_077719.2 = n2\n",
    "# NP_004548.3 = n4\n",
    "\n",
    "import re\n",
    "import pandas as pd\n",
    "\n",
    "posn = []\n",
    "ref = []\n",
    "chg = []\n",
    "clinvar = pd.read_table('notch4_clinvar.txt')\n",
    "clinvar['Protein_id'] = 'NP_004548.3'\n",
    "#df['Position'] = re.search(r'\\d+', str(df['Protein change'])).group()\n",
    "for pos in clinvar['Protein change']:\n",
    "    posn.append(re.search(r'\\d+', str(pos)).group())\n",
    "    ref.append(re.search(r'^[A-Z]', str(pos)).group())\n",
    "    chg.append(re.search(r'[A-Z]$', str(pos)).group())\n",
    "clinvar['Position'] = posn\n",
    "clinvar['Ref'] = ref\n",
    "clinvar['Variant'] = chg\n",
    "clinvar.head()\n",
    "\n",
    "# Export for provean batch \n",
    "clin2 = clinvar[['Protein_id', 'Position','Ref','Variant']]\n",
    "clin2.to_csv('notch2_table', sep = ' ', header = False, index = False)\n",
    "\n",
    "#clin2['Effect'] \n",
    "#clinvar['Effect']\n",
    "eff = []\n",
    "for ef in clinvar['Clinical significance (Last reviewed)']:\n",
    "    a = (re.search(r'Benign|benign|Pathogenic|pathogenic', ef).group())\n",
    "    #if a == 'benign':\n",
    "    #    a = 'Benign'\n",
    "    #if a == 'pathogenic':\n",
    "    #    a = 'Pathogenic'\n",
    "    eff.append(a)\n",
    "clin2['Effect'] = eff\n",
    "clin = clin2.loc[clin2['Effect'].isin(['Benign', 'Pathogenic'])]\n",
    "clin.reset_index(inplace=True)\n",
    "clin = clin[['Protein_id','Position','Ref','Variant','Effect']].copy()\n",
    "\n",
    "with open ('notch4_table', 'w') as out:\n",
    "    for i in range(len(clin['Effect'])):\n",
    "        clin['Ref']\n",
    "        data = (f'{clin.Protein_id[i]} {clin.Position[i]} {clin.Ref[i]} {clin.Variant[i]}\\n')\n",
    "        out.write(data)\n"
   ]
  },
  {
   "cell_type": "code",
   "execution_count": 10,
   "metadata": {},
   "outputs": [
    {
     "name": "stderr",
     "output_type": "stream",
     "text": [
      "/tmp/ipykernel_12465/3140125309.py:7: SettingWithCopyWarning: \n",
      "A value is trying to be set on a copy of a slice from a DataFrame.\n",
      "Try using .loc[row_indexer,col_indexer] = value instead\n",
      "\n",
      "See the caveats in the documentation: https://pandas.pydata.org/pandas-docs/stable/user_guide/indexing.html#returning-a-view-versus-a-copy\n",
      "  clin3['Effect'] = eff\n"
     ]
    }
   ],
   "source": [
    "clin3 = clinvar[['Protein change']]\n",
    "\n",
    "eff = []\n",
    "for ef in clinvar['Clinical significance (Last reviewed)']:\n",
    "    a = (re.search(r'Benign|benign|Pathogenic|pathogenic', ef).group())\n",
    "    eff.append(a)\n",
    "clin3['Effect'] = eff\n",
    "\n",
    "\n",
    "clin = clin3.loc[clin3['Effect'].isin(['Benign', 'Pathogenic'])]\n",
    "clin.reset_index(inplace=True)\n",
    "clin = clin[['Protein change','Effect']].copy()\n",
    "\n",
    "\n",
    "with open ('notch4_table2', 'w') as out:\n",
    "    for i in range(len(clin['Effect'])):\n",
    "        data = (f'{clin[\"Protein change\"][i]}\\n')\n",
    "        out.write(data)\n",
    "\n"
   ]
  },
  {
   "cell_type": "code",
   "execution_count": 27,
   "metadata": {},
   "outputs": [
    {
     "data": {
      "text/html": [
       "<div>\n",
       "<style scoped>\n",
       "    .dataframe tbody tr th:only-of-type {\n",
       "        vertical-align: middle;\n",
       "    }\n",
       "\n",
       "    .dataframe tbody tr th {\n",
       "        vertical-align: top;\n",
       "    }\n",
       "\n",
       "    .dataframe thead th {\n",
       "        text-align: right;\n",
       "    }\n",
       "</style>\n",
       "<table border=\"1\" class=\"dataframe\">\n",
       "  <thead>\n",
       "    <tr style=\"text-align: right;\">\n",
       "      <th></th>\n",
       "      <th>Protein change</th>\n",
       "      <th>Effect</th>\n",
       "    </tr>\n",
       "  </thead>\n",
       "  <tbody>\n",
       "    <tr>\n",
       "      <th>0</th>\n",
       "      <td>G1213R</td>\n",
       "      <td>Benign</td>\n",
       "    </tr>\n",
       "    <tr>\n",
       "      <th>1</th>\n",
       "      <td>G1099R</td>\n",
       "      <td>Benign</td>\n",
       "    </tr>\n",
       "    <tr>\n",
       "      <th>2</th>\n",
       "      <td>G942R</td>\n",
       "      <td>Benign</td>\n",
       "    </tr>\n",
       "    <tr>\n",
       "      <th>3</th>\n",
       "      <td>C815G</td>\n",
       "      <td>Benign</td>\n",
       "    </tr>\n",
       "    <tr>\n",
       "      <th>4</th>\n",
       "      <td>G534S</td>\n",
       "      <td>Benign</td>\n",
       "    </tr>\n",
       "    <tr>\n",
       "      <th>5</th>\n",
       "      <td>T320A</td>\n",
       "      <td>Benign</td>\n",
       "    </tr>\n",
       "    <tr>\n",
       "      <th>6</th>\n",
       "      <td>D272G</td>\n",
       "      <td>Benign</td>\n",
       "    </tr>\n",
       "    <tr>\n",
       "      <th>7</th>\n",
       "      <td>S244L</td>\n",
       "      <td>Benign</td>\n",
       "    </tr>\n",
       "    <tr>\n",
       "      <th>8</th>\n",
       "      <td>P204L</td>\n",
       "      <td>Benign</td>\n",
       "    </tr>\n",
       "    <tr>\n",
       "      <th>9</th>\n",
       "      <td>K117Q</td>\n",
       "      <td>Benign</td>\n",
       "    </tr>\n",
       "  </tbody>\n",
       "</table>\n",
       "</div>"
      ],
      "text/plain": [
       "  Protein change  Effect\n",
       "0         G1213R  Benign\n",
       "1         G1099R  Benign\n",
       "2          G942R  Benign\n",
       "3          C815G  Benign\n",
       "4          G534S  Benign\n",
       "5          T320A  Benign\n",
       "6          D272G  Benign\n",
       "7          S244L  Benign\n",
       "8          P204L  Benign\n",
       "9          K117Q  Benign"
      ]
     },
     "execution_count": 27,
     "metadata": {},
     "output_type": "execute_result"
    }
   ],
   "source": [
    "clin"
   ]
  },
  {
   "cell_type": "code",
   "execution_count": 9,
   "metadata": {},
   "outputs": [],
   "source": [
    "clin.to_csv('notch4_clinvar.csv')\n",
    "clinvar['Protein change'].to_csv('notch4_clinvar_2nd.csv')"
   ]
  }
 ],
 "metadata": {
  "interpreter": {
   "hash": "b284bba50bf9e5886a89e8076488c350ab8e966a42d05bc35dea285ec3d91e10"
  },
  "kernelspec": {
   "display_name": "Python 3.9.7 ('test_env')",
   "language": "python",
   "name": "python3"
  },
  "language_info": {
   "codemirror_mode": {
    "name": "ipython",
    "version": 3
   },
   "file_extension": ".py",
   "mimetype": "text/x-python",
   "name": "python",
   "nbconvert_exporter": "python",
   "pygments_lexer": "ipython3",
   "version": "3.9.7 (default, Sep 16 2021, 13:09:58) \n[GCC 7.5.0]"
  },
  "orig_nbformat": 4
 },
 "nbformat": 4,
 "nbformat_minor": 2
}
